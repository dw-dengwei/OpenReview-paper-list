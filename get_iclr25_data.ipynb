{
 "cells": [
  {
   "cell_type": "markdown",
   "id": "cdcb8f3c",
   "metadata": {},
   "source": [
    "# Crawl dataset with all submissions info\n",
    "OpenReview Venue Crawling"
   ]
  },
  {
   "cell_type": "code",
   "execution_count": 2,
   "id": "b15b9499",
   "metadata": {},
   "outputs": [
    {
     "name": "stdout",
     "output_type": "stream",
     "text": [
      "The autoreload extension is already loaded. To reload it, use:\n",
      "  %reload_ext autoreload\n"
     ]
    }
   ],
   "source": [
    "%load_ext autoreload\n",
    "%autoreload 2\n",
    "\n",
    "import time\n",
    "import pandas as pd\n",
    "from multiprocessing import Pool\n",
    "from tqdm import tqdm\n",
    "from tqdm.notebook import tqdm\n",
    "import requests\n",
    "import openreview\n",
    "import json\n",
    "import numpy as np\n",
    "import os\n",
    "import json"
   ]
  },
  {
   "cell_type": "markdown",
   "id": "ba524d57",
   "metadata": {
    "tags": []
   },
   "source": [
    "## Crawl list of all submissions\n",
    "Here we scrape the _notes_ , (list of all submissions) using OpenReview's API, way faster than Selenium-based scraping.\n"
   ]
  },
  {
   "cell_type": "code",
   "execution_count": 3,
   "id": "73cb2a83-d24e-4282-9867-fd161e5395e1",
   "metadata": {},
   "outputs": [],
   "source": [
    "client = openreview.api.OpenReviewClient(\n",
    "    baseurl='https://api2.openreview.net',\n",
    "    username=\"\",\n",
    "    password=\"\"\n",
    ")"
   ]
  },
  {
   "cell_type": "code",
   "execution_count": 4,
   "id": "f06f7554-8a38-455d-815b-be541e83e4a5",
   "metadata": {},
   "outputs": [
    {
     "name": "stderr",
     "output_type": "stream",
     "text": [
      "Getting V2 Notes: 100%|█████████▉| 11660/11672 [00:25<00:00, 457.88it/s]\n"
     ]
    }
   ],
   "source": [
    "venue_id = 'ICLR.cc/2025/Conference'\n",
    "venue_group = client.get_group(venue_id)\n",
    "submission_name = venue_group.content['submission_name']['value']\n",
    "submissions = client.get_all_notes(invitation=f'{venue_id}/-/{submission_name}', details='directReplies')"
   ]
  },
  {
   "cell_type": "code",
   "execution_count": 5,
   "id": "a5bb8ac8",
   "metadata": {},
   "outputs": [],
   "source": [
    "decisions = []\n",
    "venue_group_settings = client.get_group(venue_id).content\n",
    "decision_invitation_name = venue_group_settings['decision_name']['value']\n",
    "for submission in submissions:\n",
    "    for reply in submission.details['directReplies']:\n",
    "        if any(invitation.endswith(f'/-/{decision_invitation_name}') for invitation in reply['invitations']):\n",
    "            decisions.append(reply)"
   ]
  },
  {
   "cell_type": "code",
   "execution_count": 6,
   "id": "7eb69482",
   "metadata": {},
   "outputs": [
    {
     "name": "stdout",
     "output_type": "stream",
     "text": [
      "['__class__', '__delattr__', '__dict__', '__dir__', '__doc__', '__eq__', '__format__', '__ge__', '__getattribute__', '__getstate__', '__gt__', '__hash__', '__init__', '__init_subclass__', '__le__', '__lt__', '__module__', '__ne__', '__new__', '__reduce__', '__reduce_ex__', '__repr__', '__setattr__', '__sizeof__', '__str__', '__subclasshook__', '__weakref__', 'cdate', 'content', 'ddate', 'details', 'domain', 'forum', 'from_json', 'id', 'invitations', 'license', 'mdate', 'nonreaders', 'number', 'odate', 'pdate', 'readers', 'replyto', 'signatures', 'tcdate', 'tmdate', 'to_json', 'writers']\n"
     ]
    }
   ],
   "source": [
    "sub = submissions[1]\n",
    "print(dir(sub))"
   ]
  },
  {
   "cell_type": "code",
   "execution_count": 7,
   "id": "ef96192e",
   "metadata": {},
   "outputs": [
    {
     "name": "stdout",
     "output_type": "stream",
     "text": [
      "cdate 1726738855000\n",
      "content dict_keys(['title', 'authors', 'authorids', 'keywords', 'abstract', 'pdf', 'primary_area', 'code_of_ethics', 'submission_guidelines', 'reciprocal_reviewing', 'anonymous_url', 'no_acknowledgement_section', 'venue', 'venueid', 'supplementary_material', '_bibtex', 'paperhash'])\n",
      "ddate None\n",
      "details dict_keys(['directReplies'])\n",
      "domain ICLR.cc/2025/Conference\n",
      "forum zz9jAssrwL\n",
      "id zz9jAssrwL\n",
      "invitations ['ICLR.cc/2025/Conference/-/Submission', 'ICLR.cc/2025/Conference/-/Post_Submission', 'ICLR.cc/2025/Conference/-/Withdrawn_Submission']\n",
      "license CC BY 4.0\n",
      "mdate 1731477746113\n",
      "nonreaders None\n",
      "number 1812\n",
      "odate 1728008565725\n",
      "pdate None\n",
      "readers ['everyone']\n",
      "replyto None\n",
      "signatures ['ICLR.cc/2025/Conference/Submission1812/Authors']\n",
      "tcdate 1726738855000\n",
      "tmdate 1731477746113\n",
      "writers ['ICLR.cc/2025/Conference', 'ICLR.cc/2025/Conference/Submission1812/Authors']\n"
     ]
    }
   ],
   "source": [
    "for prop in dir(sub):\n",
    "    if '_' not in prop:\n",
    "        value = getattr(sub, prop)\n",
    "        if isinstance(value, dict):\n",
    "            print(prop, value.keys())\n",
    "        else:\n",
    "            print(prop, value)"
   ]
  },
  {
   "cell_type": "code",
   "execution_count": 12,
   "id": "2cad9934-5f7d-4fc2-b165-8ecbbd6c0269",
   "metadata": {},
   "outputs": [],
   "source": [
    "def submission2note(submission, idx):\n",
    "    # review_keys=['summary', 'strengths', 'weaknesses', 'questions']\n",
    "    # total_replies = submission.details[\"directReplies\"]\n",
    "    rating_replies = [reply for reply in submission.details[\"directReplies\"] if \"rating\" in reply[\"content\"]]\n",
    "    reply = 'no decision'\n",
    "    for rep in submission.details['directReplies']:\n",
    "        if any(invitation.endswith(f'/-/{decision_invitation_name}') for invitation in rep['invitations']):\n",
    "            reply = rep['content']['decision']['value']\n",
    "    ratings = [\n",
    "            int(reply[\"content\"][\"rating\"][\"value\"])\n",
    "            for reply in rating_replies\n",
    "    ]\n",
    "    rating = \"{:.2f}\".format(sum(ratings) / len(ratings) if len(ratings) > 0 else 0.)\n",
    "    variance = \"{:.2f}\".format(sum([(float(rating) - r) ** 2 for r in ratings]) / len(ratings) if len(ratings) > 1 else 0.)\n",
    "    authors = submission.content[\"authors\"][\"value\"] if \"authors\" in submission.content else []\n",
    "    note = {\n",
    "        \"id\": submission.id,\n",
    "        \"decision\": reply,\n",
    "        \"authors\": authors,\n",
    "        \"emails\": [],\n",
    "        \"rank\": idx,\n",
    "        \"title\": submission.content[\"title\"][\"value\"],\n",
    "        \"keywords\": submission.content[\"keywords\"][\"value\"],\n",
    "        \"ratings\": ratings,\n",
    "        \"rating\": rating,\n",
    "        \"confidences\":\n",
    "        [\n",
    "            int(reply[\"content\"][\"confidence\"][\"value\"])\n",
    "            for reply in rating_replies\n",
    "        ],\n",
    "        \"variance\": variance,\n",
    "        \"withdraw\": 1 if \"Withdrawn\" in submission.content[\"venue\"][\"value\"] else 0,\n",
    "        # \"review_lengths\": [\n",
    "        #     sum([len(reply[\"content\"][key][\"value\"].split()) for key in review_keys])\n",
    "        #     for reply in rating_replies\n",
    "        # ],\n",
    "        \"abstract\": submission.content[\"abstract\"][\"value\"],\n",
    "        # \"comments\": len(total_replies),\n",
    "        \"url\": f\"https://openreview.net/forum?id={submission.id}\",\n",
    "\n",
    "    }\n",
    "    return note"
   ]
  },
  {
   "cell_type": "code",
   "execution_count": 14,
   "id": "d90bd8c7-0342-4433-9eaf-7d5686c4ad8a",
   "metadata": {},
   "outputs": [],
   "source": [
    "notes = [submission2note(submission, idx) for idx, submission in enumerate(submissions)]\n",
    "with open('data/iclr2025.json', 'w') as f:\n",
    "    json.dump(notes, f)"
   ]
  }
 ],
 "metadata": {
  "kernelspec": {
   "display_name": "base",
   "language": "python",
   "name": "python3"
  },
  "language_info": {
   "codemirror_mode": {
    "name": "ipython",
    "version": 3
   },
   "file_extension": ".py",
   "mimetype": "text/x-python",
   "name": "python",
   "nbconvert_exporter": "python",
   "pygments_lexer": "ipython3",
   "version": "3.12.7"
  }
 },
 "nbformat": 4,
 "nbformat_minor": 5
}
