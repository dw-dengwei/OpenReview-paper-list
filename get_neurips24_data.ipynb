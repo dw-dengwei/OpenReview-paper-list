{
 "cells": [
  {
   "cell_type": "markdown",
   "id": "cdcb8f3c",
   "metadata": {},
   "source": [
    "# Crawl dataset with all submissions info\n",
    "OpenReview Venue Crawling"
   ]
  },
  {
   "cell_type": "code",
   "execution_count": null,
   "id": "b15b9499",
   "metadata": {},
   "outputs": [],
   "source": [
    "%load_ext autoreload\n",
    "%autoreload 2\n",
    "\n",
    "import time\n",
    "import pandas as pd\n",
    "from multiprocessing import Pool\n",
    "from tqdm import tqdm\n",
    "from tqdm.notebook import tqdm\n",
    "import requests\n",
    "import openreview\n",
    "import json\n",
    "import numpy as np\n",
    "import os\n",
    "# from get_paper_data import get_paper_data_multi\n",
    "import json\n"
   ]
  },
  {
   "cell_type": "markdown",
   "id": "ba524d57",
   "metadata": {
    "tags": []
   },
   "source": [
    "## Crawl list of all submissions\n",
    "Here we scrape the _notes_ , (list of all submissions) using OpenReview's API, way faster than Selenium-based scraping.\n"
   ]
  },
  {
   "cell_type": "code",
   "execution_count": null,
   "id": "73cb2a83-d24e-4282-9867-fd161e5395e1",
   "metadata": {},
   "outputs": [],
   "source": [
    "client = openreview.api.OpenReviewClient(\n",
    "    baseurl='https://api2.openreview.net',\n",
    "    username=\"\",\n",
    "    password=\"\"\n",
    ")"
   ]
  },
  {
   "cell_type": "code",
   "execution_count": null,
   "id": "f06f7554-8a38-455d-815b-be541e83e4a5",
   "metadata": {},
   "outputs": [],
   "source": [
    "venue_id = 'NeurIPS.cc/2024/Conference'\n",
    "venue_group = client.get_group(venue_id)\n",
    "submission_name = venue_group.content['submission_name']['value']\n",
    "submissions = client.get_all_notes(invitation=f'{venue_id}/-/{submission_name}', details='directReplies')"
   ]
  },
  {
   "cell_type": "code",
   "execution_count": 17,
   "id": "2cad9934-5f7d-4fc2-b165-8ecbbd6c0269",
   "metadata": {},
   "outputs": [],
   "source": [
    "def submission2note(submission, idx):\n",
    "    # review_keys=['summary', 'strengths', 'weaknesses', 'questions']\n",
    "    # total_replies = submission.details[\"directReplies\"]\n",
    "    content = submission.content\n",
    "    # rating_replies = [reply for reply in submission.details[\"directReplies\"] if \"rating\" in reply[\"content\"]]\n",
    "    # reply = 'no decision'\n",
    "    # for rep in submission.details['directReplies']:\n",
    "    #     if any(invitation.endswith(f'/-/{decision_invitation_name}') for invitation in rep['invitations']):\n",
    "    #         reply = rep['content']['decision']['value']\n",
    "    # ratings = [\n",
    "    #         int(reply[\"content\"][\"rating\"][\"value\"][0])\n",
    "    #         for reply in rating_replies\n",
    "    # ]\n",
    "    ratings = [0.0]\n",
    "    rating = \"0.00\"\n",
    "    variance = \"0.00\"\n",
    "    authors = content[\"authors\"][\"value\"] if \"authors\" in content else []\n",
    "    decision = content['venue']['value'].split(' ')[-1].lower()\n",
    "    if '2024' not in decision:\n",
    "        decision = f\"Accept ({decision})\"\n",
    "    else:\n",
    "        decision = \"Reject\"\n",
    "\n",
    "    note = {\n",
    "        \"id\": submission.id,\n",
    "        \"decision\": decision,\n",
    "        \"authors\": authors,\n",
    "        \"emails\": [],\n",
    "        \"rank\": idx,\n",
    "        \"title\": content[\"title\"][\"value\"],\n",
    "        \"ratings\": ratings,\n",
    "        \"rating\": rating,\n",
    "        \"confidences\": [0.0],\n",
    "        \"variance\": variance,\n",
    "        \"withdraw\": 1 if \"Withdrawn\" in submission.content[\"venue\"][\"value\"] else 0,\n",
    "        \"abstract\": content[\"abstract\"][\"value\"],\n",
    "        \"url\": f\"https://openreview.net/forum?id={submission.id}\",\n",
    "\n",
    "    }\n",
    "    return note"
   ]
  },
  {
   "cell_type": "code",
   "execution_count": 18,
   "id": "d90bd8c7-0342-4433-9eaf-7d5686c4ad8a",
   "metadata": {},
   "outputs": [],
   "source": [
    "notes = [submission2note(submission, idx) for idx, submission in enumerate(submissions)]\n",
    "with open('data/neurips2024.json', 'w') as f:\n",
    "    json.dump(notes, f)"
   ]
  }
 ],
 "metadata": {
  "kernelspec": {
   "display_name": "Python 3",
   "language": "python",
   "name": "python3"
  },
  "language_info": {
   "codemirror_mode": {
    "name": "ipython",
    "version": 3
   },
   "file_extension": ".py",
   "mimetype": "text/x-python",
   "name": "python",
   "nbconvert_exporter": "python",
   "pygments_lexer": "ipython3",
   "version": "3.12.7"
  }
 },
 "nbformat": 4,
 "nbformat_minor": 5
}
